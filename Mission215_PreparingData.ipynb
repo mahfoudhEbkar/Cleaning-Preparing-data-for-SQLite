{
 "cells": [
  {
   "cell_type": "raw",
   "metadata": {},
   "source": [
    "Now lets read the dataset into a Dataframe and explore it to become more familiar with the data. \n",
    "Once we have cleaned the dataset, we will  use a Pandas helper method to export the data into a SQLite database."
   ]
  },
  {
   "cell_type": "code",
   "execution_count": 1,
   "metadata": {
    "collapsed": true
   },
   "outputs": [],
   "source": [
    "import pandas as pd \n",
    "\n",
    "df = pd.read_csv(\"academy_awards.csv\", encoding=\"ISO-8859-1 \")"
   ]
  },
  {
   "cell_type": "markdown",
   "metadata": {},
   "source": [
    "let's look at the data and see  if we can spot any quality issues "
   ]
  },
  {
   "cell_type": "code",
   "execution_count": 2,
   "metadata": {},
   "outputs": [
    {
     "data": {
      "text/html": [
       "<div>\n",
       "<style>\n",
       "    .dataframe thead tr:only-child th {\n",
       "        text-align: right;\n",
       "    }\n",
       "\n",
       "    .dataframe thead th {\n",
       "        text-align: left;\n",
       "    }\n",
       "\n",
       "    .dataframe tbody tr th {\n",
       "        vertical-align: top;\n",
       "    }\n",
       "</style>\n",
       "<table border=\"1\" class=\"dataframe\">\n",
       "  <thead>\n",
       "    <tr style=\"text-align: right;\">\n",
       "      <th></th>\n",
       "      <th>Year</th>\n",
       "      <th>Category</th>\n",
       "      <th>Nominee</th>\n",
       "      <th>Additional Info</th>\n",
       "      <th>Won?</th>\n",
       "      <th>Unnamed: 5</th>\n",
       "      <th>Unnamed: 6</th>\n",
       "      <th>Unnamed: 7</th>\n",
       "      <th>Unnamed: 8</th>\n",
       "      <th>Unnamed: 9</th>\n",
       "      <th>Unnamed: 10</th>\n",
       "    </tr>\n",
       "  </thead>\n",
       "  <tbody>\n",
       "    <tr>\n",
       "      <th>0</th>\n",
       "      <td>2010 (83rd)</td>\n",
       "      <td>Actor -- Leading Role</td>\n",
       "      <td>Javier Bardem</td>\n",
       "      <td>Biutiful {'Uxbal'}</td>\n",
       "      <td>NO</td>\n",
       "      <td>NaN</td>\n",
       "      <td>NaN</td>\n",
       "      <td>NaN</td>\n",
       "      <td>NaN</td>\n",
       "      <td>NaN</td>\n",
       "      <td>NaN</td>\n",
       "    </tr>\n",
       "    <tr>\n",
       "      <th>1</th>\n",
       "      <td>2010 (83rd)</td>\n",
       "      <td>Actor -- Leading Role</td>\n",
       "      <td>Jeff Bridges</td>\n",
       "      <td>True Grit {'Rooster Cogburn'}</td>\n",
       "      <td>NO</td>\n",
       "      <td>NaN</td>\n",
       "      <td>NaN</td>\n",
       "      <td>NaN</td>\n",
       "      <td>NaN</td>\n",
       "      <td>NaN</td>\n",
       "      <td>NaN</td>\n",
       "    </tr>\n",
       "    <tr>\n",
       "      <th>2</th>\n",
       "      <td>2010 (83rd)</td>\n",
       "      <td>Actor -- Leading Role</td>\n",
       "      <td>Jesse Eisenberg</td>\n",
       "      <td>The Social Network {'Mark Zuckerberg'}</td>\n",
       "      <td>NO</td>\n",
       "      <td>NaN</td>\n",
       "      <td>NaN</td>\n",
       "      <td>NaN</td>\n",
       "      <td>NaN</td>\n",
       "      <td>NaN</td>\n",
       "      <td>NaN</td>\n",
       "    </tr>\n",
       "  </tbody>\n",
       "</table>\n",
       "</div>"
      ],
      "text/plain": [
       "          Year               Category          Nominee  \\\n",
       "0  2010 (83rd)  Actor -- Leading Role    Javier Bardem   \n",
       "1  2010 (83rd)  Actor -- Leading Role     Jeff Bridges   \n",
       "2  2010 (83rd)  Actor -- Leading Role  Jesse Eisenberg   \n",
       "\n",
       "                          Additional Info Won? Unnamed: 5 Unnamed: 6  \\\n",
       "0                      Biutiful {'Uxbal'}   NO        NaN        NaN   \n",
       "1           True Grit {'Rooster Cogburn'}   NO        NaN        NaN   \n",
       "2  The Social Network {'Mark Zuckerberg'}   NO        NaN        NaN   \n",
       "\n",
       "  Unnamed: 7 Unnamed: 8 Unnamed: 9 Unnamed: 10  \n",
       "0        NaN        NaN        NaN         NaN  \n",
       "1        NaN        NaN        NaN         NaN  \n",
       "2        NaN        NaN        NaN         NaN  "
      ]
     },
     "execution_count": 2,
     "metadata": {},
     "output_type": "execute_result"
    }
   ],
   "source": [
    "df.head(3)"
   ]
  },
  {
   "cell_type": "markdown",
   "metadata": {},
   "source": [
    "We can see there are 6 unnamed columns at the end. \n",
    "\n",
    "Will use the value_counts method to explore if any of them have valid values that we need.\n",
    "\n",
    "Also  notice that the Additional Info column contains a few different formatting styles.\n",
    "\n",
    "We will need to clean this column up."
   ]
  },
  {
   "cell_type": "code",
   "execution_count": 3,
   "metadata": {},
   "outputs": [
    {
     "data": {
      "text/plain": [
       "*                                                                                                               7\n",
       " D.B. \"Don\" Keele and Mark E. Engebretson has resulted in the over 20-year dominance of constant-directivity    1\n",
       " resilience                                                                                                     1\n",
       " discoverer of stars                                                                                            1\n",
       " error-prone measurements on sets. [Digital Imaging Technology]\"                                                1\n",
       "Name: Unnamed: 5, dtype: int64"
      ]
     },
     "execution_count": 3,
     "metadata": {},
     "output_type": "execute_result"
    }
   ],
   "source": [
    "df.iloc[:,5].value_counts(normalize=False, sort=True, ascending=False, bins=None, dropna=True)"
   ]
  },
  {
   "cell_type": "code",
   "execution_count": 4,
   "metadata": {},
   "outputs": [
    {
     "data": {
      "text/plain": [
       " while requiring no dangerous solvents. [Systems]\"    1\n",
       "*                                                     1\n",
       " kindly                                               1\n",
       "Name: Unnamed: 7, dtype: int64"
      ]
     },
     "execution_count": 4,
     "metadata": {},
     "output_type": "execute_result"
    }
   ],
   "source": [
    "df.iloc[:,7].value_counts(normalize=False, sort=True, ascending=False, bins=None, dropna=True)"
   ]
  },
  {
   "cell_type": "markdown",
   "metadata": {},
   "source": [
    "The dataset is incredibly messy, most columns don't have consistent formatting, which is incredibly important when we use SQL to query the data later on. Other columns vary in the information they convey based on the type of awards category that row corresponds to"
   ]
  },
  {
   "cell_type": "markdown",
   "metadata": {},
   "source": [
    "<h1>Filtering the data</h1>"
   ]
  },
  {
   "cell_type": "code",
   "execution_count": 5,
   "metadata": {},
   "outputs": [
    {
     "data": {
      "text/plain": [
       "0    2010 (83rd)\n",
       "1    2010 (83rd)\n",
       "Name: Year, dtype: object"
      ]
     },
     "execution_count": 5,
     "metadata": {},
     "output_type": "execute_result"
    }
   ],
   "source": [
    "df[\"Year\"].head(2)"
   ]
  },
  {
   "cell_type": "markdown",
   "metadata": {},
   "source": [
    "Before we filter the data, let's clean up the Year column by selecting just the first 4 digits in each value in the column, therefore excluding the value in parentheses"
   ]
  },
  {
   "cell_type": "code",
   "execution_count": 6,
   "metadata": {
    "collapsed": true
   },
   "outputs": [],
   "source": [
    "# As you can see on cell 89 year type is object let's convert the Year column to the int64 data type using astype\n",
    "df[\"Year\"] = df[\"Year\"].str[0:4].astype(\"int64\")"
   ]
  },
  {
   "cell_type": "code",
   "execution_count": 7,
   "metadata": {},
   "outputs": [
    {
     "data": {
      "text/plain": [
       "0    2010\n",
       "1    2010\n",
       "Name: Year, dtype: int64"
      ]
     },
     "execution_count": 7,
     "metadata": {},
     "output_type": "execute_result"
    }
   ],
   "source": [
    "df[\"Year\"].head(2)"
   ]
  },
  {
   "cell_type": "code",
   "execution_count": 8,
   "metadata": {
    "collapsed": true
   },
   "outputs": [],
   "source": [
    "#select only the rows from the Dataframe where the Year column is larger than 2000\n",
    "later_than_2000 = df[df[\"Year\"] > 2000]"
   ]
  },
  {
   "cell_type": "code",
   "execution_count": 9,
   "metadata": {},
   "outputs": [
    {
     "data": {
      "text/plain": [
       "23    Art Direction\n",
       "24    Art Direction\n",
       "25    Art Direction\n",
       "Name: Category, dtype: object"
      ]
     },
     "execution_count": 9,
     "metadata": {},
     "output_type": "execute_result"
    }
   ],
   "source": [
    "# lets fillter award_categories that we're interested in such as Art Direction\n",
    "later_than_2000[\"Category\"][later_than_2000[\"Category\"]==\"Art Direction\"].head(3)"
   ]
  },
  {
   "cell_type": "code",
   "execution_count": 10,
   "metadata": {
    "collapsed": true
   },
   "outputs": [],
   "source": [
    "award_categories = [\"Actor -- Leading Role\", \"Actor -- Supporting Role\", \"Actress -- Leading Role\", \"Actress -- Supporting Role\"]"
   ]
  },
  {
   "cell_type": "code",
   "execution_count": 11,
   "metadata": {
    "collapsed": true
   },
   "outputs": [],
   "source": [
    "# select only  where the Category matches one of the 4 awards we're interested in\n",
    "nominations  = later_than_2000[later_than_2000[\"Category\"].isin(award_categories) ]"
   ]
  },
  {
   "cell_type": "code",
   "execution_count": 12,
   "metadata": {},
   "outputs": [
    {
     "data": {
      "text/plain": [
       "Series([], Name: Category, dtype: object)"
      ]
     },
     "execution_count": 12,
     "metadata": {},
     "output_type": "execute_result"
    }
   ],
   "source": [
    "# now in nominations we dont have Art Direction catg\n",
    "nominations[\"Category\"][nominations[\"Category\"]==\"Art Direction\"].head(3)"
   ]
  },
  {
   "cell_type": "markdown",
   "metadata": {},
   "source": [
    "now let's convert the \"Won?\"  column to reflect this. Also rename the Won? column to Won so that it's consistent with the other column names. Finally, get rid of the 6 extra, unnamed columns, since they contain only null values in our filtered Dataframe nominations."
   ]
  },
  {
   "cell_type": "code",
   "execution_count": 13,
   "metadata": {},
   "outputs": [
    {
     "data": {
      "text/plain": [
       "0     NO\n",
       "1     NO\n",
       "2     NO\n",
       "3    YES\n",
       "Name: Won?, dtype: object"
      ]
     },
     "execution_count": 13,
     "metadata": {},
     "output_type": "execute_result"
    }
   ],
   "source": [
    "nominations['Won?'].head(4)"
   ]
  },
  {
   "cell_type": "code",
   "execution_count": 14,
   "metadata": {},
   "outputs": [
    {
     "data": {
      "text/plain": [
       "Series([], Name: Unnamed: 7, dtype: int64)"
      ]
     },
     "execution_count": 14,
     "metadata": {},
     "output_type": "execute_result"
    }
   ],
   "source": [
    "nominations.iloc[:,5].value_counts(normalize=False, sort=True, ascending=False, bins=None, dropna=True)\n",
    "nominations.iloc[:,7].value_counts(normalize=False, sort=True, ascending=False, bins=None, dropna=True)"
   ]
  },
  {
   "cell_type": "code",
   "execution_count": 15,
   "metadata": {},
   "outputs": [
    {
     "data": {
      "text/plain": [
       "Series([], Name: Unnamed: 9, dtype: int64)"
      ]
     },
     "execution_count": 15,
     "metadata": {},
     "output_type": "execute_result"
    }
   ],
   "source": [
    "#the 6 extra, unnamed columns contain only null values in our filtered Dataframe nominations so lets get rid of them\n",
    "nominations.iloc[:,9].value_counts(normalize=False, sort=True, ascending=False, bins=None, dropna=True)"
   ]
  },
  {
   "cell_type": "markdown",
   "metadata": {},
   "source": [
    "column \"Won?\" is value is YES or NO  lets convert it to 1 or 0  \n",
    "Also will rename the Won? column to Won  o that it's consistent with the other column names"
   ]
  },
  {
   "cell_type": "code",
   "execution_count": 16,
   "metadata": {},
   "outputs": [
    {
     "name": "stderr",
     "output_type": "stream",
     "text": [
      "C:\\Users\\mebkar\\AppData\\Local\\Continuum\\Anaconda3\\lib\\site-packages\\ipykernel_launcher.py:4: SettingWithCopyWarning: \n",
      "A value is trying to be set on a copy of a slice from a DataFrame.\n",
      "Try using .loc[row_indexer,col_indexer] = value instead\n",
      "\n",
      "See the caveats in the documentation: http://pandas.pydata.org/pandas-docs/stable/indexing.html#indexing-view-versus-copy\n",
      "  after removing the cwd from sys.path.\n"
     ]
    }
   ],
   "source": [
    "#using Series method map to replace all NO values with 0 and all YES values with 1\n",
    "replace_d = { 'YES': 1, 'NO': 0 } \n",
    "#reassign \n",
    "nominations['Won?'] = nominations['Won?'].map(replace_d)"
   ]
  },
  {
   "cell_type": "code",
   "execution_count": 17,
   "metadata": {},
   "outputs": [
    {
     "data": {
      "text/plain": [
       "0    0\n",
       "1    0\n",
       "2    0\n",
       "3    1\n",
       "Name: Won?, dtype: int64"
      ]
     },
     "execution_count": 17,
     "metadata": {},
     "output_type": "execute_result"
    }
   ],
   "source": [
    "#verify\n",
    "nominations['Won?'].head(4)"
   ]
  },
  {
   "cell_type": "code",
   "execution_count": 18,
   "metadata": {},
   "outputs": [
    {
     "name": "stderr",
     "output_type": "stream",
     "text": [
      "C:\\Users\\mebkar\\AppData\\Local\\Continuum\\Anaconda3\\lib\\site-packages\\ipykernel_launcher.py:1: SettingWithCopyWarning: \n",
      "A value is trying to be set on a copy of a slice from a DataFrame.\n",
      "Try using .loc[row_indexer,col_indexer] = value instead\n",
      "\n",
      "See the caveats in the documentation: http://pandas.pydata.org/pandas-docs/stable/indexing.html#indexing-view-versus-copy\n",
      "  \"\"\"Entry point for launching an IPython kernel.\n"
     ]
    }
   ],
   "source": [
    "nominations['Won'] = nominations['Won?']"
   ]
  },
  {
   "cell_type": "code",
   "execution_count": 19,
   "metadata": {},
   "outputs": [
    {
     "data": {
      "text/plain": [
       "0    0\n",
       "1    0\n",
       "2    0\n",
       "3    1\n",
       "Name: Won, dtype: int64"
      ]
     },
     "execution_count": 19,
     "metadata": {},
     "output_type": "execute_result"
    }
   ],
   "source": [
    "nominations['Won'].head(4)"
   ]
  },
  {
   "cell_type": "code",
   "execution_count": 20,
   "metadata": {
    "collapsed": true
   },
   "outputs": [],
   "source": [
    "#now lets drop the extraneous columns\n",
    "drop_cols = [\"Won?\",\"Unnamed: 5\", \"Unnamed: 6\",\"Unnamed: 7\", \"Unnamed: 8\", \"Unnamed: 9\", \"Unnamed: 10\"]\n",
    "final_nominations = nominations.drop(drop_cols, axis=1)"
   ]
  },
  {
   "cell_type": "markdown",
   "metadata": {},
   "source": [
    "<h1>cleanup columns</h1>"
   ]
  },
  {
   "cell_type": "markdown",
   "metadata": {},
   "source": [
    "now lets cleanup Additional Info column, whose values are formatted like so:\n",
    "\n",
    "MOVIE {'CHARACTER'}\n",
    "\n",
    "Here are some examples:\n",
    "\n",
    "Biutiful {'Uxbal'} - Biutiful is the movie and Uxbal is the character this nominee played."
   ]
  },
  {
   "cell_type": "code",
   "execution_count": 21,
   "metadata": {},
   "outputs": [
    {
     "data": {
      "text/plain": [
       "0                        Biutiful {'Uxbal'}\n",
       "1             True Grit {'Rooster Cogburn'}\n",
       "2    The Social Network {'Mark Zuckerberg'}\n",
       "3      The King's Speech {'King George VI'}\n",
       "Name: Additional Info, dtype: object"
      ]
     },
     "execution_count": 21,
     "metadata": {},
     "output_type": "execute_result"
    }
   ],
   "source": [
    "final_nominations[\"Additional Info\"].head(4)"
   ]
  },
  {
   "cell_type": "code",
   "execution_count": 22,
   "metadata": {
    "collapsed": true
   },
   "outputs": [],
   "source": [
    "additional_info_one = final_nominations[\"Additional Info\"].str.rstrip(\"'}\")"
   ]
  },
  {
   "cell_type": "code",
   "execution_count": 23,
   "metadata": {
    "collapsed": true
   },
   "outputs": [],
   "source": [
    "additional_info_two = additional_info_one.str.split(\" {'\")"
   ]
  },
  {
   "cell_type": "code",
   "execution_count": 24,
   "metadata": {
    "collapsed": true
   },
   "outputs": [],
   "source": [
    "movie_names = additional_info_two.str[0]"
   ]
  },
  {
   "cell_type": "code",
   "execution_count": 25,
   "metadata": {
    "collapsed": true
   },
   "outputs": [],
   "source": [
    "characters =  additional_info_two.str[1]"
   ]
  },
  {
   "cell_type": "code",
   "execution_count": 26,
   "metadata": {
    "collapsed": true
   },
   "outputs": [],
   "source": [
    "final_nominations[\"Movie\"] = movie_names"
   ]
  },
  {
   "cell_type": "code",
   "execution_count": 27,
   "metadata": {
    "collapsed": true
   },
   "outputs": [],
   "source": [
    "final_nominations[\"Character\"] = characters"
   ]
  },
  {
   "cell_type": "code",
   "execution_count": 28,
   "metadata": {},
   "outputs": [
    {
     "data": {
      "text/html": [
       "<div>\n",
       "<style>\n",
       "    .dataframe thead tr:only-child th {\n",
       "        text-align: right;\n",
       "    }\n",
       "\n",
       "    .dataframe thead th {\n",
       "        text-align: left;\n",
       "    }\n",
       "\n",
       "    .dataframe tbody tr th {\n",
       "        vertical-align: top;\n",
       "    }\n",
       "</style>\n",
       "<table border=\"1\" class=\"dataframe\">\n",
       "  <thead>\n",
       "    <tr style=\"text-align: right;\">\n",
       "      <th></th>\n",
       "      <th>Year</th>\n",
       "      <th>Category</th>\n",
       "      <th>Nominee</th>\n",
       "      <th>Won</th>\n",
       "      <th>Movie</th>\n",
       "      <th>Character</th>\n",
       "    </tr>\n",
       "  </thead>\n",
       "  <tbody>\n",
       "    <tr>\n",
       "      <th>0</th>\n",
       "      <td>2010</td>\n",
       "      <td>Actor -- Leading Role</td>\n",
       "      <td>Javier Bardem</td>\n",
       "      <td>0</td>\n",
       "      <td>Biutiful</td>\n",
       "      <td>Uxbal</td>\n",
       "    </tr>\n",
       "    <tr>\n",
       "      <th>1</th>\n",
       "      <td>2010</td>\n",
       "      <td>Actor -- Leading Role</td>\n",
       "      <td>Jeff Bridges</td>\n",
       "      <td>0</td>\n",
       "      <td>True Grit</td>\n",
       "      <td>Rooster Cogburn</td>\n",
       "    </tr>\n",
       "    <tr>\n",
       "      <th>2</th>\n",
       "      <td>2010</td>\n",
       "      <td>Actor -- Leading Role</td>\n",
       "      <td>Jesse Eisenberg</td>\n",
       "      <td>0</td>\n",
       "      <td>The Social Network</td>\n",
       "      <td>Mark Zuckerberg</td>\n",
       "    </tr>\n",
       "    <tr>\n",
       "      <th>3</th>\n",
       "      <td>2010</td>\n",
       "      <td>Actor -- Leading Role</td>\n",
       "      <td>Colin Firth</td>\n",
       "      <td>1</td>\n",
       "      <td>The King's Speech</td>\n",
       "      <td>King George VI</td>\n",
       "    </tr>\n",
       "    <tr>\n",
       "      <th>4</th>\n",
       "      <td>2010</td>\n",
       "      <td>Actor -- Leading Role</td>\n",
       "      <td>James Franco</td>\n",
       "      <td>0</td>\n",
       "      <td>127 Hours</td>\n",
       "      <td>Aron Ralston</td>\n",
       "    </tr>\n",
       "  </tbody>\n",
       "</table>\n",
       "</div>"
      ],
      "text/plain": [
       "   Year               Category          Nominee  Won               Movie  \\\n",
       "0  2010  Actor -- Leading Role    Javier Bardem    0            Biutiful   \n",
       "1  2010  Actor -- Leading Role     Jeff Bridges    0           True Grit   \n",
       "2  2010  Actor -- Leading Role  Jesse Eisenberg    0  The Social Network   \n",
       "3  2010  Actor -- Leading Role      Colin Firth    1   The King's Speech   \n",
       "4  2010  Actor -- Leading Role     James Franco    0           127 Hours   \n",
       "\n",
       "         Character  \n",
       "0            Uxbal  \n",
       "1  Rooster Cogburn  \n",
       "2  Mark Zuckerberg  \n",
       "3   King George VI  \n",
       "4     Aron Ralston  "
      ]
     },
     "execution_count": 28,
     "metadata": {},
     "output_type": "execute_result"
    }
   ],
   "source": [
    "final_nominations = final_nominations.drop(\"Additional Info\", axis=1)\n",
    "final_nominations.head(5)"
   ]
  },
  {
   "cell_type": "markdown",
   "metadata": {},
   "source": [
    "<b>Now that our Dataframe is cleaned up, let's write these records to a SQL database\n",
    "</b>"
   ]
  },
  {
   "cell_type": "markdown",
   "metadata": {
    "collapsed": true
   },
   "source": [
    "we will create SQLite database nominations.db and connect to it \n",
    "\n",
    "<h1>Exporting to SQLite</h1>"
   ]
  },
  {
   "cell_type": "code",
   "execution_count": 35,
   "metadata": {
    "collapsed": true
   },
   "outputs": [],
   "source": [
    "import sqlite3 \n",
    "conn = sqlite3.connect(\"nominations.db\")"
   ]
  },
  {
   "cell_type": "code",
   "execution_count": 36,
   "metadata": {
    "collapsed": true
   },
   "outputs": [],
   "source": [
    "final_nominations.to_sql(\"nominations\", conn, index=False)"
   ]
  },
  {
   "cell_type": "markdown",
   "metadata": {},
   "source": [
    "<h1>Verifying in SQL </h1>"
   ]
  },
  {
   "cell_type": "code",
   "execution_count": 31,
   "metadata": {},
   "outputs": [
    {
     "name": "stdout",
     "output_type": "stream",
     "text": [
      "[(0, 'index', 'INTEGER', 0, None, 0), (1, 'Year', 'INTEGER', 0, None, 0), (2, 'Category', 'TEXT', 0, None, 0), (3, 'Nominee', 'TEXT', 0, None, 0), (4, 'Won', 'INTEGER', 0, None, 0), (5, 'Movie', 'TEXT', 0, None, 0), (6, 'Character', 'TEXT', 0, None, 0)]\n"
     ]
    }
   ],
   "source": [
    "query_one = \"pragma table_info(nominations);\"\n",
    "query_two = \"select * from nominations limit 10;\"\n",
    "print(conn.execute(query_one).fetchall())\n"
   ]
  },
  {
   "cell_type": "code",
   "execution_count": 32,
   "metadata": {},
   "outputs": [
    {
     "name": "stdout",
     "output_type": "stream",
     "text": [
      "[(0, 2010, 'Actor -- Leading Role', 'Javier Bardem', 0, 'Biutiful', 'Uxbal'), (1, 2010, 'Actor -- Leading Role', 'Jeff Bridges', 0, 'True Grit', 'Rooster Cogburn'), (2, 2010, 'Actor -- Leading Role', 'Jesse Eisenberg', 0, 'The Social Network', 'Mark Zuckerberg'), (3, 2010, 'Actor -- Leading Role', 'Colin Firth', 1, \"The King's Speech\", 'King George VI'), (4, 2010, 'Actor -- Leading Role', 'James Franco', 0, '127 Hours', 'Aron Ralston'), (5, 2010, 'Actor -- Supporting Role', 'Christian Bale', 1, 'The Fighter', 'Dicky Eklund'), (6, 2010, 'Actor -- Supporting Role', 'John Hawkes', 0, \"Winter's Bone\", 'Teardrop'), (7, 2010, 'Actor -- Supporting Role', 'Jeremy Renner', 0, 'The Town', 'James Coughlin'), (8, 2010, 'Actor -- Supporting Role', 'Mark Ruffalo', 0, 'The Kids Are All Right', 'Paul'), (9, 2010, 'Actor -- Supporting Role', 'Geoffrey Rush', 0, \"The King's Speech\", 'Lionel Logue')]\n"
     ]
    }
   ],
   "source": [
    "print(conn.execute(query_two).fetchall())\n",
    "\n",
    "conn.close()"
   ]
  },
  {
   "cell_type": "markdown",
   "metadata": {
    "collapsed": true
   },
   "source": [
    "<h3>next step : Creating relations in SQLite<h3>"
   ]
  },
  {
   "cell_type": "markdown",
   "metadata": {},
   "source": [
    " In the previous steps we walked through how to clean and prepare the original CSV dataset on Academy Award nominations and export the data into a SQLite database as a single, denormalized table. \n",
    " \n",
    "Now we will walk through how to normalize our single table into multiple tables and how to create relations between them."
   ]
  },
  {
   "cell_type": "code",
   "execution_count": 39,
   "metadata": {
    "collapsed": true
   },
   "outputs": [],
   "source": [
    "conn1 = sqlite3.connect(\"nominations.db\")"
   ]
  },
  {
   "cell_type": "code",
   "execution_count": 40,
   "metadata": {},
   "outputs": [
    {
     "name": "stdout",
     "output_type": "stream",
     "text": [
      "(0, 'index', 'INTEGER', 0, None, 0)\n",
      "(1, 'Year', 'INTEGER', 0, None, 0)\n",
      "(2, 'Category', 'TEXT', 0, None, 0)\n",
      "(3, 'Nominee', 'TEXT', 0, None, 0)\n",
      "(4, 'Won', 'INTEGER', 0, None, 0)\n",
      "(5, 'Movie', 'TEXT', 0, None, 0)\n",
      "(6, 'Character', 'TEXT', 0, None, 0)\n",
      "(0, 2010, 'Actor -- Leading Role', 'Javier Bardem', 0, 'Biutiful', 'Uxbal')\n",
      "(1, 2010, 'Actor -- Leading Role', 'Jeff Bridges', 0, 'True Grit', 'Rooster Cogburn')\n",
      "(2, 2010, 'Actor -- Leading Role', 'Jesse Eisenberg', 0, 'The Social Network', 'Mark Zuckerberg')\n",
      "(3, 2010, 'Actor -- Leading Role', 'Colin Firth', 1, \"The King's Speech\", 'King George VI')\n",
      "(4, 2010, 'Actor -- Leading Role', 'James Franco', 0, '127 Hours', 'Aron Ralston')\n",
      "(5, 2010, 'Actor -- Supporting Role', 'Christian Bale', 1, 'The Fighter', 'Dicky Eklund')\n",
      "(6, 2010, 'Actor -- Supporting Role', 'John Hawkes', 0, \"Winter's Bone\", 'Teardrop')\n",
      "(7, 2010, 'Actor -- Supporting Role', 'Jeremy Renner', 0, 'The Town', 'James Coughlin')\n",
      "(8, 2010, 'Actor -- Supporting Role', 'Mark Ruffalo', 0, 'The Kids Are All Right', 'Paul')\n",
      "(9, 2010, 'Actor -- Supporting Role', 'Geoffrey Rush', 0, \"The King's Speech\", 'Lionel Logue')\n"
     ]
    }
   ],
   "source": [
    "\n",
    "schema = conn1.execute(\"pragma table_info(nominations);\").fetchall()\n",
    "first_ten = conn1.execute(\"select * from nominations limit 10;\").fetchall()\n",
    "\n",
    "for r in schema:\n",
    "    print(r)\n",
    "    \n",
    "for r in first_ten:\n",
    "    print(r)"
   ]
  },
  {
   "cell_type": "markdown",
   "metadata": {},
   "source": [
    "Let's now add information on the host for each awards ceremony. Instead of adding a Host column to the nominations table and having lots of redundant data, we'll create a separate table called ceremonies which contains data specific to the ceremony itself"
   ]
  },
  {
   "cell_type": "markdown",
   "metadata": {},
   "source": [
    "<h1>Creating the ceremonies table"
   ]
  },
  {
   "cell_type": "code",
   "execution_count": 43,
   "metadata": {},
   "outputs": [
    {
     "data": {
      "text/plain": [
       "<sqlite3.Cursor at 0x97cb420>"
      ]
     },
     "execution_count": 43,
     "metadata": {},
     "output_type": "execute_result"
    }
   ],
   "source": [
    "create_ceremonies = \"create table ceremonies (id integer primary key, year integer, host text);\"\n",
    "conn1.execute(create_ceremonies)"
   ]
  },
  {
   "cell_type": "code",
   "execution_count": 47,
   "metadata": {
    "collapsed": true
   },
   "outputs": [],
   "source": [
    "years_hosts = [(2010, \"Steve Martin\"),\n",
    "               (2009, \"Hugh Jackman\"),\n",
    "               (2008, \"Jon Stewart\"),\n",
    "               (2007, \"Ellen DeGeneres\"),\n",
    "               (2006, \"Jon Stewart\"),\n",
    "               (2005, \"Chris Rock\"),\n",
    "               (2004, \"Billy Crystal\"),\n",
    "               (2003, \"Steve Martin\"),\n",
    "               (2002, \"Whoopi Goldberg\"),\n",
    "               (2001, \"Steve Martin\"),\n",
    "               (2000, \"Billy Crystal\"),\n",
    "            ]"
   ]
  },
  {
   "cell_type": "code",
   "execution_count": 45,
   "metadata": {},
   "outputs": [
    {
     "data": {
      "text/plain": [
       "<sqlite3.Cursor at 0x9de9030>"
      ]
     },
     "execution_count": 45,
     "metadata": {},
     "output_type": "execute_result"
    }
   ],
   "source": [
    "insert_query2 = \"INSERT INTO ceremonies (Year, Host) VALUES (?,?);\"\n",
    "conn1.executemany(insert_query2, years_hosts)"
   ]
  },
  {
   "cell_type": "code",
   "execution_count": 49,
   "metadata": {},
   "outputs": [
    {
     "name": "stdout",
     "output_type": "stream",
     "text": [
      "[(1, 2010, 'Steve Martin'), (2, 2009, 'Hugh Jackman'), (3, 2008, 'Jon Stewart'), (4, 2007, 'Ellen DeGeneres'), (5, 2006, 'Jon Stewart'), (6, 2005, 'Chris Rock'), (7, 2004, 'Billy Crystal'), (8, 2003, 'Steve Martin'), (9, 2002, 'Whoopi Goldberg'), (10, 2001, 'Steve Martin')]\n"
     ]
    }
   ],
   "source": [
    "print(conn1.execute(\"select * from ceremonies limit 10;\").fetchall())"
   ]
  },
  {
   "cell_type": "code",
   "execution_count": 50,
   "metadata": {},
   "outputs": [
    {
     "name": "stdout",
     "output_type": "stream",
     "text": [
      "[(0, 'id', 'integer', 0, None, 1), (1, 'year', 'integer', 0, None, 0), (2, 'host', 'text', 0, None, 0)]\n"
     ]
    }
   ],
   "source": [
    "print(conn1.execute(\"pragma table_info(ceremonies);\").fetchall())"
   ]
  },
  {
   "cell_type": "markdown",
   "metadata": {},
   "source": [
    "<h1>Foreign key constraints"
   ]
  },
  {
   "cell_type": "code",
   "execution_count": 51,
   "metadata": {},
   "outputs": [
    {
     "data": {
      "text/plain": [
       "<sqlite3.Cursor at 0x9de91f0>"
      ]
     },
     "execution_count": 51,
     "metadata": {},
     "output_type": "execute_result"
    }
   ],
   "source": [
    "conn1.execute(\"PRAGMA foreign_keys = ON;\")"
   ]
  },
  {
   "cell_type": "markdown",
   "metadata": {},
   "source": [
    "<h2>Creating relations in SQLite"
   ]
  },
  {
   "cell_type": "markdown",
   "metadata": {},
   "source": [
    "The next step is to remove the Year column from nominations and add a new column, ceremony_id, that contains the foreign key reference to the id column in the ceremonies table. Unfortunately, we can't remove columns from an existing table in SQLite"
   ]
  },
  {
   "cell_type": "code",
   "execution_count": 57,
   "metadata": {
    "collapsed": true
   },
   "outputs": [],
   "source": [
    "create_nominations_two = '''create table nominations_two \n",
    "(id integer primary key, \n",
    "category text, \n",
    "nominee text, \n",
    "movie text, \n",
    "character text, \n",
    "won integer,\n",
    "ceremony_id integer,\n",
    "foreign key(ceremony_id) references ceremonies(id));\n",
    "'''"
   ]
  },
  {
   "cell_type": "code",
   "execution_count": 59,
   "metadata": {},
   "outputs": [
    {
     "data": {
      "text/plain": [
       "<sqlite3.Cursor at 0x9de9340>"
      ]
     },
     "execution_count": 59,
     "metadata": {},
     "output_type": "execute_result"
    }
   ],
   "source": [
    "conn1.execute(create_nominations_two)"
   ]
  },
  {
   "cell_type": "code",
   "execution_count": 64,
   "metadata": {
    "collapsed": true
   },
   "outputs": [],
   "source": [
    "nominations_two_query = '''\n",
    "select ceremonies.id as ceremony_id, nominations.category as category, \n",
    "nominations.nominee as nominee, nominations.movie as movie, \n",
    "nominations.character as character, nominations.won as won\n",
    "from nominations\n",
    "inner join ceremonies \n",
    "on nominations.year == ceremonies.year\n",
    ";\n",
    "'''"
   ]
  },
  {
   "cell_type": "code",
   "execution_count": 65,
   "metadata": {},
   "outputs": [],
   "source": [
    "joined_nominations = conn1.execute(nominations_two_query).fetchall()"
   ]
  },
  {
   "cell_type": "code",
   "execution_count": 66,
   "metadata": {
    "collapsed": true
   },
   "outputs": [],
   "source": [
    "insert_nominations_two = '''insert into nominations_two (ceremony_id, category, nominee, movie, character, won) \n",
    "values (?,?,?,?,?,?);\n",
    "'''"
   ]
  },
  {
   "cell_type": "code",
   "execution_count": 68,
   "metadata": {},
   "outputs": [
    {
     "data": {
      "text/plain": [
       "<sqlite3.Cursor at 0x9de9ab0>"
      ]
     },
     "execution_count": 68,
     "metadata": {},
     "output_type": "execute_result"
    }
   ],
   "source": [
    "conn1.executemany(insert_nominations_two, joined_nominations)"
   ]
  },
  {
   "cell_type": "code",
   "execution_count": 70,
   "metadata": {},
   "outputs": [
    {
     "name": "stdout",
     "output_type": "stream",
     "text": [
      "[(1, 'Actor -- Leading Role', 'Javier Bardem', 'Biutiful', 'Uxbal', 0, 1), (2, 'Actor -- Leading Role', 'Jeff Bridges', 'True Grit', 'Rooster Cogburn', 0, 1), (3, 'Actor -- Leading Role', 'Jesse Eisenberg', 'The Social Network', 'Mark Zuckerberg', 0, 1), (4, 'Actor -- Leading Role', 'Colin Firth', \"The King's Speech\", 'King George VI', 1, 1), (5, 'Actor -- Leading Role', 'James Franco', '127 Hours', 'Aron Ralston', 0, 1)]\n"
     ]
    }
   ],
   "source": [
    "print(conn1.execute(\"select * from nominations_two limit 5;\").fetchall())"
   ]
  },
  {
   "cell_type": "markdown",
   "metadata": {},
   "source": [
    "<h2>Deleting and renaming tables"
   ]
  },
  {
   "cell_type": "code",
   "execution_count": 71,
   "metadata": {},
   "outputs": [
    {
     "data": {
      "text/plain": [
       "<sqlite3.Cursor at 0x9de9a40>"
      ]
     },
     "execution_count": 71,
     "metadata": {},
     "output_type": "execute_result"
    }
   ],
   "source": [
    " conn1.execute(\"DROP TABLE nominations\")"
   ]
  },
  {
   "cell_type": "code",
   "execution_count": 72,
   "metadata": {},
   "outputs": [
    {
     "data": {
      "text/plain": [
       "<sqlite3.Cursor at 0x9de9b90>"
      ]
     },
     "execution_count": 72,
     "metadata": {},
     "output_type": "execute_result"
    }
   ],
   "source": [
    " conn1.execute(\" ALTER TABLE nominations_two RENAME TO nominations\")"
   ]
  },
  {
   "cell_type": "markdown",
   "metadata": {},
   "source": [
    "<h2> Creating a join table </h2>\n",
    "\n",
    "we will create 3 tables we need to model the relationship between movies and actors. \n",
    "\n",
    "so we need to create the movies and actors tables before creating the movies_actors table for the foreign key references to work"
   ]
  },
  {
   "cell_type": "code",
   "execution_count": 79,
   "metadata": {},
   "outputs": [
    {
     "data": {
      "text/plain": [
       "<sqlite3.Cursor at 0x9de9e30>"
      ]
     },
     "execution_count": 79,
     "metadata": {},
     "output_type": "execute_result"
    }
   ],
   "source": [
    "movie_Q = '''CREATE TABLE movies (\n",
    "id INTEGER PRIMARY KEY,\n",
    "movie text \n",
    ");'''\n",
    "\n",
    "conn1.execute(movie_Q)"
   ]
  },
  {
   "cell_type": "code",
   "execution_count": 80,
   "metadata": {},
   "outputs": [
    {
     "data": {
      "text/plain": [
       "<sqlite3.Cursor at 0x9de9ea0>"
      ]
     },
     "execution_count": 80,
     "metadata": {},
     "output_type": "execute_result"
    }
   ],
   "source": [
    "actor_Q = '''CREATE TABLE actors (\n",
    "id INTEGER PRIMARY KEY,\n",
    "actor text \n",
    ");'''\n",
    "\n",
    "conn1.execute(actor_Q)"
   ]
  },
  {
   "cell_type": "code",
   "execution_count": 81,
   "metadata": {},
   "outputs": [
    {
     "data": {
      "text/plain": [
       "<sqlite3.Cursor at 0x9de9f10>"
      ]
     },
     "execution_count": 81,
     "metadata": {},
     "output_type": "execute_result"
    }
   ],
   "source": [
    "movies_actors_Q = '''CREATE TABLE movies_actors (\n",
    "id INTEGER PRIMARY KEY,\n",
    "movie_id INTEGER REFERENCES movies(id), \n",
    "actor_id INTEGER REFERENCES actors(id)\n",
    ");'''\n",
    "\n",
    "conn1.execute(movies_actors_Q)"
   ]
  },
  {
   "cell_type": "markdown",
   "metadata": {},
   "source": [
    "\n",
    "<h3>Populating the movies and actors tables"
   ]
  },
  {
   "cell_type": "code",
   "execution_count": 85,
   "metadata": {},
   "outputs": [
    {
     "name": "stdout",
     "output_type": "stream",
     "text": [
      "[(1, 'Biutiful'), (2, 'True Grit'), (3, 'The Social Network'), (4, \"The King's Speech\"), (5, '127 Hours')]\n",
      "[(1, 'Javier Bardem'), (2, 'Jeff Bridges'), (3, 'Jesse Eisenberg'), (4, 'Colin Firth'), (5, 'James Franco')]\n"
     ]
    }
   ],
   "source": [
    "insert_movies = \"insert into movies (movie) select distinct movie from nominations;\"\n",
    "insert_actors = \"insert into actors (actor) select distinct nominee from nominations;\"\n",
    "conn1.execute(insert_movies)\n",
    "conn1.execute(insert_actors)\n",
    "\n",
    "print(conn1.execute(\"select * from movies limit 5;\").fetchall())\n",
    "print(conn1.execute(\"select * from actors limit 5;\").fetchall())"
   ]
  },
  {
   "cell_type": "markdown",
   "metadata": {},
   "source": [
    "<h3>Populating a join table"
   ]
  },
  {
   "cell_type": "code",
   "execution_count": 87,
   "metadata": {},
   "outputs": [
    {
     "name": "stdout",
     "output_type": "stream",
     "text": [
      "[(1, 1, 1), (2, 2, 2), (3, 3, 3), (4, 4, 4), (5, 5, 5)]\n"
     ]
    }
   ],
   "source": [
    "pairs_query = \"select movie,nominee from nominations;\"\n",
    "movie_actor_pairs = conn.execute(pairs_query).fetchall()\n",
    "\n",
    "join_table_insert = \"insert into movies_actors (movie_id, actor_id) values ((select id from movies where movie == ?),(select id from actors where actor == ?));\"\n",
    "conn1.executemany(join_table_insert,movie_actor_pairs)\n",
    "\n",
    "print(conn1.execute(\"select * from movies_actors limit 5;\").fetchall())"
   ]
  },
  {
   "cell_type": "code",
   "execution_count": null,
   "metadata": {
    "collapsed": true
   },
   "outputs": [],
   "source": []
  }
 ],
 "metadata": {
  "kernelspec": {
   "display_name": "Python 3",
   "language": "python",
   "name": "python3"
  },
  "language_info": {
   "codemirror_mode": {
    "name": "ipython",
    "version": 3
   },
   "file_extension": ".py",
   "mimetype": "text/x-python",
   "name": "python",
   "nbconvert_exporter": "python",
   "pygments_lexer": "ipython3",
   "version": "3.6.1"
  }
 },
 "nbformat": 4,
 "nbformat_minor": 2
}
