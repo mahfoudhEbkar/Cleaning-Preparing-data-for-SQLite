{
 "cells": [
  {
   "cell_type": "markdown",
   "metadata": {},
   "source": [
    "We'll work with data on Academy Award nominations, which can be downloaded here: https://www.aggdata.com/awards/oscar. \n",
    "\n",
    "The Academy Awards are : https://en.wikipedia.org/wiki/Academy_Awards#Awards_of_Merit_categories\n",
    "\n",
    "Here are the columns in the dataset, academy_awards.csv:\n",
    "\n",
    "Year - the year of the awards ceremony.\n",
    "\n",
    "Category - the category of award the nominee was nominated for.\n",
    "\n",
    "Nominee - the person nominated for the award.\n",
    "\n",
    "Additional Info - this column contains additional info like:\n",
    "\n",
    "    the movie the nominee participated in.\n",
    "\n",
    "    the character the nominee played (for acting awards).\n",
    "\n",
    "Won? - this column contains either YES or NO depending on if the nominee won the award."
   ]
  },
  {
   "cell_type": "raw",
   "metadata": {},
   "source": [
    "Now lets read in the dataset into a Dataframe and explore it to become more familiar with the data. \n",
    "Once we have cleaned the dataset, we will  use a Pandas helper method to export the data into a SQLite database."
   ]
  },
  {
   "cell_type": "code",
   "execution_count": null,
   "metadata": {
    "collapsed": true
   },
   "outputs": [],
   "source": []
  }
 ],
 "metadata": {
  "kernelspec": {
   "display_name": "Python 3",
   "language": "python",
   "name": "python3"
  },
  "language_info": {
   "codemirror_mode": {
    "name": "ipython",
    "version": 3
   },
   "file_extension": ".py",
   "mimetype": "text/x-python",
   "name": "python",
   "nbconvert_exporter": "python",
   "pygments_lexer": "ipython3",
   "version": "3.6.1"
  }
 },
 "nbformat": 4,
 "nbformat_minor": 2
}
